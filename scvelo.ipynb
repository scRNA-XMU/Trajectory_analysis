{
 "cells": [
  {
   "cell_type": "code",
   "execution_count": 1,
   "metadata": {},
   "outputs": [],
   "source": [
    "#-----------------------------------------parameter-----------------------------------------\n",
    "# min_shared_counts = 10 | 删除没有同时有10个spliced and unspliced counts的基因\n",
    "# n_top_genes = 3000 | 取top 多少的high variable gene (这些基因被认为是更能生物学差异的)\n",
    "# n_pcs=30 | 使用的PC数\n",
    "# n_neighbors=20 | 临近细胞的数量\n",
    "# min_likelihood | Minimal likelihood for velocity genes to fit the model on\n",
    "# min_likelihood_time | Minimal likelihood fitness for genes to be included to the weighting\n",
    "# size | 图片大小\n",
    "#-----------------------------------------parameter-----------------------------------------"
   ]
  },
  {
   "cell_type": "code",
   "execution_count": 1,
   "metadata": {},
   "outputs": [],
   "source": [
    "##先激活虚拟环境\n",
    "#### env : conda activate scvelo"
   ]
  },
  {
   "cell_type": "code",
   "execution_count": 2,
   "metadata": {},
   "outputs": [],
   "source": [
    "#-----------------------加载相关的包--------------------------------------------\n",
    "import anndata\n",
    "import scvelo as scv\n",
    "import pandas as pd\n",
    "import numpy as np\n",
    "import matplotlib as plt\n",
    "import IPython\n",
    "import cellrank as cr\n",
    "import scanpy as sc\n",
    "#-----------------------加载相关的包--------------------------------------------"
   ]
  },
  {
   "cell_type": "code",
   "execution_count": 8,
   "metadata": {},
   "outputs": [],
   "source": [
    "#----------------一些进程还有画图参数设置----------------------------\n",
    "scv.settings.verbosity = 3\n",
    "scv.settings.presenter_view = True\n",
    "scv.set_figure_params('scvelo',dpi=150,dpi_save=300)\n",
    "#----------------一些进程还有画图参数设置--------------------------------"
   ]
  },
  {
   "cell_type": "code",
   "execution_count": 3,
   "metadata": {},
   "outputs": [
    {
     "data": {
      "text/plain": [
       "AnnData object with n_obs × n_vars = 3187 × 24084"
      ]
     },
     "execution_count": 3,
     "metadata": {},
     "output_type": "execute_result"
    }
   ],
   "source": [
    "#----------------读入spliced counts---------------------------------\n",
    "s = scv.read(\"./spliced.csv\")\n",
    "s\n",
    "#----------------读入spliced counts---------------------------------"
   ]
  },
  {
   "cell_type": "code",
   "execution_count": 4,
   "metadata": {},
   "outputs": [
    {
     "data": {
      "text/plain": [
       "AnnData object with n_obs × n_vars = 3187 × 24084"
      ]
     },
     "execution_count": 4,
     "metadata": {},
     "output_type": "execute_result"
    }
   ],
   "source": [
    "#----------------读入unspliced counts---------------------------------\n",
    "u = scv.read(\"./unspliced.csv\")\n",
    "u\n",
    "#----------------读入unspliced counts---------------------------------"
   ]
  },
  {
   "cell_type": "code",
   "execution_count": 5,
   "metadata": {},
   "outputs": [
    {
     "data": {
      "text/plain": [
       "AnnData object with n_obs × n_vars = 3187 × 24084\n",
       "    layers: 'spliced', 'unspliced'"
      ]
     },
     "execution_count": 5,
     "metadata": {},
     "output_type": "execute_result"
    }
   ],
   "source": [
    "#------------------------组合成anndata object-----------------------------------------\n",
    "adata = s\n",
    "adata.layers['spliced'] = s.X\n",
    "adata.layers['unspliced'] = u.X\n",
    "adata\n",
    "#------------------------组合成anndata object-----------------------------------------"
   ]
  },
  {
   "cell_type": "code",
   "execution_count": 6,
   "metadata": {},
   "outputs": [
    {
     "data": {
      "image/png": "[encoded data removed]",
      "text/plain": [
       "<Figure size 1000x200 with 1 Axes>"
      ]
     },
     "metadata": {
      "image/png": {
       "height": 197,
       "width": 172
      }
     },
     "output_type": "display_data"
    }
   ],
   "source": [
    "#----------------------------------unspliced coounts 的比例，一般要在15%以上---------------------\n",
    "scv.pl.proportions(adata)\n",
    "#----------------------------------unspliced coounts 的比例，一般要在15%以上---------------------"
   ]
  },
  {
   "cell_type": "code",
   "execution_count": 7,
   "metadata": {},
   "outputs": [
    {
     "data": {
      "text/html": [
       "<div>\n",
       "<style scoped>\n",
       "    .dataframe tbody tr th:only-of-type {\n",
       "        vertical-align: middle;\n",
       "    }\n",
       "\n",
       "    .dataframe tbody tr th {\n",
       "        vertical-align: top;\n",
       "    }\n",
       "\n",
       "    .dataframe thead th {\n",
       "        text-align: right;\n",
       "    }\n",
       "</style>\n",
       "<table border=\"1\" class=\"dataframe\">\n",
       "  <thead>\n",
       "    <tr style=\"text-align: right;\">\n",
       "      <th></th>\n",
       "      <th>Unnamed: 0</th>\n",
       "      <th>orig.ident</th>\n",
       "      <th>nCount_RNA</th>\n",
       "      <th>nFeature_RNA</th>\n",
       "      <th>percent.mt</th>\n",
       "      <th>percent.rps</th>\n",
       "      <th>percent.rpl</th>\n",
       "      <th>percent.rrna</th>\n",
       "      <th>nCount_SCT</th>\n",
       "      <th>nFeature_SCT</th>\n",
       "      <th>...</th>\n",
       "      <th>HLA1</th>\n",
       "      <th>Donor.orig</th>\n",
       "      <th>Donor.full</th>\n",
       "      <th>Donor</th>\n",
       "      <th>Status</th>\n",
       "      <th>Sex</th>\n",
       "      <th>DPS</th>\n",
       "      <th>DTF</th>\n",
       "      <th>Admission</th>\n",
       "      <th>Ventilated</th>\n",
       "    </tr>\n",
       "  </thead>\n",
       "  <tbody>\n",
       "    <tr>\n",
       "      <th>0</th>\n",
       "      <td>covid_555_1.2</td>\n",
       "      <td>covid_555_1</td>\n",
       "      <td>1099</td>\n",
       "      <td>160</td>\n",
       "      <td>13.102821</td>\n",
       "      <td>0.363967</td>\n",
       "      <td>0.363967</td>\n",
       "      <td>58.780710</td>\n",
       "      <td>1700</td>\n",
       "      <td>160</td>\n",
       "      <td>...</td>\n",
       "      <td>0.023525</td>\n",
       "      <td>555</td>\n",
       "      <td>C1 A</td>\n",
       "      <td>C1</td>\n",
       "      <td>COVID</td>\n",
       "      <td>M</td>\n",
       "      <td>9</td>\n",
       "      <td>9</td>\n",
       "      <td>ICU</td>\n",
       "      <td>NonVent</td>\n",
       "    </tr>\n",
       "    <tr>\n",
       "      <th>1</th>\n",
       "      <td>covid_555_1.3</td>\n",
       "      <td>covid_555_1</td>\n",
       "      <td>1055</td>\n",
       "      <td>212</td>\n",
       "      <td>2.938389</td>\n",
       "      <td>0.663507</td>\n",
       "      <td>0.947867</td>\n",
       "      <td>55.829384</td>\n",
       "      <td>1661</td>\n",
       "      <td>213</td>\n",
       "      <td>...</td>\n",
       "      <td>-0.044271</td>\n",
       "      <td>555</td>\n",
       "      <td>C1 A</td>\n",
       "      <td>C1</td>\n",
       "      <td>COVID</td>\n",
       "      <td>M</td>\n",
       "      <td>9</td>\n",
       "      <td>9</td>\n",
       "      <td>ICU</td>\n",
       "      <td>NonVent</td>\n",
       "    </tr>\n",
       "    <tr>\n",
       "      <th>2</th>\n",
       "      <td>covid_555_1.7</td>\n",
       "      <td>covid_555_1</td>\n",
       "      <td>2411</td>\n",
       "      <td>312</td>\n",
       "      <td>10.908337</td>\n",
       "      <td>0.041477</td>\n",
       "      <td>0.165906</td>\n",
       "      <td>67.399419</td>\n",
       "      <td>1971</td>\n",
       "      <td>312</td>\n",
       "      <td>...</td>\n",
       "      <td>-0.038040</td>\n",
       "      <td>555</td>\n",
       "      <td>C1 A</td>\n",
       "      <td>C1</td>\n",
       "      <td>COVID</td>\n",
       "      <td>M</td>\n",
       "      <td>9</td>\n",
       "      <td>9</td>\n",
       "      <td>ICU</td>\n",
       "      <td>NonVent</td>\n",
       "    </tr>\n",
       "    <tr>\n",
       "      <th>3</th>\n",
       "      <td>covid_555_1.8</td>\n",
       "      <td>covid_555_1</td>\n",
       "      <td>2276</td>\n",
       "      <td>336</td>\n",
       "      <td>11.203866</td>\n",
       "      <td>0.263620</td>\n",
       "      <td>0.307557</td>\n",
       "      <td>67.355009</td>\n",
       "      <td>1948</td>\n",
       "      <td>336</td>\n",
       "      <td>...</td>\n",
       "      <td>-0.043605</td>\n",
       "      <td>555</td>\n",
       "      <td>C1 A</td>\n",
       "      <td>C1</td>\n",
       "      <td>COVID</td>\n",
       "      <td>M</td>\n",
       "      <td>9</td>\n",
       "      <td>9</td>\n",
       "      <td>ICU</td>\n",
       "      <td>NonVent</td>\n",
       "    </tr>\n",
       "    <tr>\n",
       "      <th>4</th>\n",
       "      <td>covid_555_1.11</td>\n",
       "      <td>covid_555_1</td>\n",
       "      <td>1166</td>\n",
       "      <td>351</td>\n",
       "      <td>5.060034</td>\n",
       "      <td>0.686106</td>\n",
       "      <td>1.114923</td>\n",
       "      <td>36.277873</td>\n",
       "      <td>1619</td>\n",
       "      <td>351</td>\n",
       "      <td>...</td>\n",
       "      <td>-0.071987</td>\n",
       "      <td>555</td>\n",
       "      <td>C1 A</td>\n",
       "      <td>C1</td>\n",
       "      <td>COVID</td>\n",
       "      <td>M</td>\n",
       "      <td>9</td>\n",
       "      <td>9</td>\n",
       "      <td>ICU</td>\n",
       "      <td>NonVent</td>\n",
       "    </tr>\n",
       "    <tr>\n",
       "      <th>...</th>\n",
       "      <td>...</td>\n",
       "      <td>...</td>\n",
       "      <td>...</td>\n",
       "      <td>...</td>\n",
       "      <td>...</td>\n",
       "      <td>...</td>\n",
       "      <td>...</td>\n",
       "      <td>...</td>\n",
       "      <td>...</td>\n",
       "      <td>...</td>\n",
       "      <td>...</td>\n",
       "      <td>...</td>\n",
       "      <td>...</td>\n",
       "      <td>...</td>\n",
       "      <td>...</td>\n",
       "      <td>...</td>\n",
       "      <td>...</td>\n",
       "      <td>...</td>\n",
       "      <td>...</td>\n",
       "      <td>...</td>\n",
       "      <td>...</td>\n",
       "    </tr>\n",
       "    <tr>\n",
       "      <th>3182</th>\n",
       "      <td>HIP045.2186</td>\n",
       "      <td>HIP045</td>\n",
       "      <td>4218</td>\n",
       "      <td>1073</td>\n",
       "      <td>4.338549</td>\n",
       "      <td>1.991465</td>\n",
       "      <td>3.082029</td>\n",
       "      <td>17.567568</td>\n",
       "      <td>2492</td>\n",
       "      <td>926</td>\n",
       "      <td>...</td>\n",
       "      <td>-0.107606</td>\n",
       "      <td>HIP045</td>\n",
       "      <td>H6</td>\n",
       "      <td>H6</td>\n",
       "      <td>Healthy</td>\n",
       "      <td>M</td>\n",
       "      <td>0</td>\n",
       "      <td>0</td>\n",
       "      <td>NaN</td>\n",
       "      <td>Healthy</td>\n",
       "    </tr>\n",
       "    <tr>\n",
       "      <th>3183</th>\n",
       "      <td>HIP045.2210</td>\n",
       "      <td>HIP045</td>\n",
       "      <td>2264</td>\n",
       "      <td>1097</td>\n",
       "      <td>12.234982</td>\n",
       "      <td>3.842756</td>\n",
       "      <td>5.962898</td>\n",
       "      <td>14.796820</td>\n",
       "      <td>2119</td>\n",
       "      <td>1097</td>\n",
       "      <td>...</td>\n",
       "      <td>-0.149190</td>\n",
       "      <td>HIP045</td>\n",
       "      <td>H6</td>\n",
       "      <td>H6</td>\n",
       "      <td>Healthy</td>\n",
       "      <td>M</td>\n",
       "      <td>0</td>\n",
       "      <td>0</td>\n",
       "      <td>NaN</td>\n",
       "      <td>Healthy</td>\n",
       "    </tr>\n",
       "    <tr>\n",
       "      <th>3184</th>\n",
       "      <td>HIP045.2233</td>\n",
       "      <td>HIP045</td>\n",
       "      <td>3032</td>\n",
       "      <td>1114</td>\n",
       "      <td>9.300792</td>\n",
       "      <td>3.199208</td>\n",
       "      <td>3.924802</td>\n",
       "      <td>14.808707</td>\n",
       "      <td>2318</td>\n",
       "      <td>1108</td>\n",
       "      <td>...</td>\n",
       "      <td>-0.091390</td>\n",
       "      <td>HIP045</td>\n",
       "      <td>H6</td>\n",
       "      <td>H6</td>\n",
       "      <td>Healthy</td>\n",
       "      <td>M</td>\n",
       "      <td>0</td>\n",
       "      <td>0</td>\n",
       "      <td>NaN</td>\n",
       "      <td>Healthy</td>\n",
       "    </tr>\n",
       "    <tr>\n",
       "      <th>3185</th>\n",
       "      <td>HIP045.2426</td>\n",
       "      <td>HIP045</td>\n",
       "      <td>3787</td>\n",
       "      <td>1430</td>\n",
       "      <td>11.169791</td>\n",
       "      <td>3.512015</td>\n",
       "      <td>4.357011</td>\n",
       "      <td>12.094006</td>\n",
       "      <td>2527</td>\n",
       "      <td>1367</td>\n",
       "      <td>...</td>\n",
       "      <td>-0.114220</td>\n",
       "      <td>HIP045</td>\n",
       "      <td>H6</td>\n",
       "      <td>H6</td>\n",
       "      <td>Healthy</td>\n",
       "      <td>M</td>\n",
       "      <td>0</td>\n",
       "      <td>0</td>\n",
       "      <td>NaN</td>\n",
       "      <td>Healthy</td>\n",
       "    </tr>\n",
       "    <tr>\n",
       "      <th>3186</th>\n",
       "      <td>HIP045.2482</td>\n",
       "      <td>HIP045</td>\n",
       "      <td>6339</td>\n",
       "      <td>1622</td>\n",
       "      <td>2.839565</td>\n",
       "      <td>2.224326</td>\n",
       "      <td>2.760688</td>\n",
       "      <td>12.983120</td>\n",
       "      <td>2211</td>\n",
       "      <td>582</td>\n",
       "      <td>...</td>\n",
       "      <td>-0.091667</td>\n",
       "      <td>HIP045</td>\n",
       "      <td>H6</td>\n",
       "      <td>H6</td>\n",
       "      <td>Healthy</td>\n",
       "      <td>M</td>\n",
       "      <td>0</td>\n",
       "      <td>0</td>\n",
       "      <td>NaN</td>\n",
       "      <td>Healthy</td>\n",
       "    </tr>\n",
       "  </tbody>\n",
       "</table>\n",
       "<p>3187 rows × 28 columns</p>\n",
       "</div>"
      ],
      "text/plain": [
       "          Unnamed: 0   orig.ident  nCount_RNA  nFeature_RNA  percent.mt  \\\n",
       "0      covid_555_1.2  covid_555_1        1099           160   13.102821   \n",
       "1      covid_555_1.3  covid_555_1        1055           212    2.938389   \n",
       "2      covid_555_1.7  covid_555_1        2411           312   10.908337   \n",
       "3      covid_555_1.8  covid_555_1        2276           336   11.203866   \n",
       "4     covid_555_1.11  covid_555_1        1166           351    5.060034   \n",
       "...              ...          ...         ...           ...         ...   \n",
       "3182     HIP045.2186       HIP045        4218          1073    4.338549   \n",
       "3183     HIP045.2210       HIP045        2264          1097   12.234982   \n",
       "3184     HIP045.2233       HIP045        3032          1114    9.300792   \n",
       "3185     HIP045.2426       HIP045        3787          1430   11.169791   \n",
       "3186     HIP045.2482       HIP045        6339          1622    2.839565   \n",
       "\n",
       "      percent.rps  percent.rpl  percent.rrna  nCount_SCT  nFeature_SCT  ...  \\\n",
       "0        0.363967     0.363967     58.780710        1700           160  ...   \n",
       "1        0.663507     0.947867     55.829384        1661           213  ...   \n",
       "2        0.041477     0.165906     67.399419        1971           312  ...   \n",
       "3        0.263620     0.307557     67.355009        1948           336  ...   \n",
       "4        0.686106     1.114923     36.277873        1619           351  ...   \n",
       "...           ...          ...           ...         ...           ...  ...   \n",
       "3182     1.991465     3.082029     17.567568        2492           926  ...   \n",
       "3183     3.842756     5.962898     14.796820        2119          1097  ...   \n",
       "3184     3.199208     3.924802     14.808707        2318          1108  ...   \n",
       "3185     3.512015     4.357011     12.094006        2527          1367  ...   \n",
       "3186     2.224326     2.760688     12.983120        2211           582  ...   \n",
       "\n",
       "          HLA1  Donor.orig Donor.full Donor   Status Sex DPS  DTF  Admission  \\\n",
       "0     0.023525         555       C1 A    C1    COVID   M   9    9        ICU   \n",
       "1    -0.044271         555       C1 A    C1    COVID   M   9    9        ICU   \n",
       "2    -0.038040         555       C1 A    C1    COVID   M   9    9        ICU   \n",
       "3    -0.043605         555       C1 A    C1    COVID   M   9    9        ICU   \n",
       "4    -0.071987         555       C1 A    C1    COVID   M   9    9        ICU   \n",
       "...        ...         ...        ...   ...      ...  ..  ..  ...        ...   \n",
       "3182 -0.107606      HIP045         H6    H6  Healthy   M   0    0        NaN   \n",
       "3183 -0.149190      HIP045         H6    H6  Healthy   M   0    0        NaN   \n",
       "3184 -0.091390      HIP045         H6    H6  Healthy   M   0    0        NaN   \n",
       "3185 -0.114220      HIP045         H6    H6  Healthy   M   0    0        NaN   \n",
       "3186 -0.091667      HIP045         H6    H6  Healthy   M   0    0        NaN   \n",
       "\n",
       "     Ventilated  \n",
       "0       NonVent  \n",
       "1       NonVent  \n",
       "2       NonVent  \n",
       "3       NonVent  \n",
       "4       NonVent  \n",
       "...         ...  \n",
       "3182    Healthy  \n",
       "3183    Healthy  \n",
       "3184    Healthy  \n",
       "3185    Healthy  \n",
       "3186    Healthy  \n",
       "\n",
       "[3187 rows x 28 columns]"
      ]
     },
     "execution_count": 7,
     "metadata": {},
     "output_type": "execute_result"
    }
   ],
   "source": [
    "#---------------------------------读入metadata-----------------------------\n",
    "m = pd.read_csv(\"./metadata.csv\")\n",
    "m\n",
    "#---------------------------------读入metadata-----------------------------"
   ]
  },
  {
   "cell_type": "code",
   "execution_count": 3,
   "metadata": {},
   "outputs": [
    {
     "data": {
      "text/html": [
       "<div>\n",
       "<style scoped>\n",
       "    .dataframe tbody tr th:only-of-type {\n",
       "        vertical-align: middle;\n",
       "    }\n",
       "\n",
       "    .dataframe tbody tr th {\n",
       "        vertical-align: top;\n",
       "    }\n",
       "\n",
       "    .dataframe thead th {\n",
       "        text-align: right;\n",
       "    }\n",
       "</style>\n",
       "<table border=\"1\" class=\"dataframe\">\n",
       "  <thead>\n",
       "    <tr style=\"text-align: right;\">\n",
       "      <th></th>\n",
       "      <th>Unnamed: 0</th>\n",
       "      <th>UMAP_1</th>\n",
       "      <th>UMAP_2</th>\n",
       "    </tr>\n",
       "  </thead>\n",
       "  <tbody>\n",
       "    <tr>\n",
       "      <th>0</th>\n",
       "      <td>covid_555_1.2</td>\n",
       "      <td>0.088325</td>\n",
       "      <td>-1.833405</td>\n",
       "    </tr>\n",
       "    <tr>\n",
       "      <th>1</th>\n",
       "      <td>covid_555_1.3</td>\n",
       "      <td>-0.202251</td>\n",
       "      <td>4.213624</td>\n",
       "    </tr>\n",
       "    <tr>\n",
       "      <th>2</th>\n",
       "      <td>covid_555_1.7</td>\n",
       "      <td>-2.638725</td>\n",
       "      <td>2.088745</td>\n",
       "    </tr>\n",
       "    <tr>\n",
       "      <th>3</th>\n",
       "      <td>covid_555_1.8</td>\n",
       "      <td>-1.338910</td>\n",
       "      <td>-6.483031</td>\n",
       "    </tr>\n",
       "    <tr>\n",
       "      <th>4</th>\n",
       "      <td>covid_555_1.11</td>\n",
       "      <td>-2.370549</td>\n",
       "      <td>-9.392575</td>\n",
       "    </tr>\n",
       "    <tr>\n",
       "      <th>...</th>\n",
       "      <td>...</td>\n",
       "      <td>...</td>\n",
       "      <td>...</td>\n",
       "    </tr>\n",
       "    <tr>\n",
       "      <th>3182</th>\n",
       "      <td>HIP045.2186</td>\n",
       "      <td>0.570493</td>\n",
       "      <td>-3.560979</td>\n",
       "    </tr>\n",
       "    <tr>\n",
       "      <th>3183</th>\n",
       "      <td>HIP045.2210</td>\n",
       "      <td>4.090896</td>\n",
       "      <td>-2.805602</td>\n",
       "    </tr>\n",
       "    <tr>\n",
       "      <th>3184</th>\n",
       "      <td>HIP045.2233</td>\n",
       "      <td>-5.576463</td>\n",
       "      <td>2.649315</td>\n",
       "    </tr>\n",
       "    <tr>\n",
       "      <th>3185</th>\n",
       "      <td>HIP045.2426</td>\n",
       "      <td>-4.389531</td>\n",
       "      <td>2.005273</td>\n",
       "    </tr>\n",
       "    <tr>\n",
       "      <th>3186</th>\n",
       "      <td>HIP045.2482</td>\n",
       "      <td>-0.382457</td>\n",
       "      <td>-2.861159</td>\n",
       "    </tr>\n",
       "  </tbody>\n",
       "</table>\n",
       "<p>3187 rows × 3 columns</p>\n",
       "</div>"
      ],
      "text/plain": [
       "          Unnamed: 0    UMAP_1    UMAP_2\n",
       "0      covid_555_1.2  0.088325 -1.833405\n",
       "1      covid_555_1.3 -0.202251  4.213624\n",
       "2      covid_555_1.7 -2.638725  2.088745\n",
       "3      covid_555_1.8 -1.338910 -6.483031\n",
       "4     covid_555_1.11 -2.370549 -9.392575\n",
       "...              ...       ...       ...\n",
       "3182     HIP045.2186  0.570493 -3.560979\n",
       "3183     HIP045.2210  4.090896 -2.805602\n",
       "3184     HIP045.2233 -5.576463  2.649315\n",
       "3185     HIP045.2426 -4.389531  2.005273\n",
       "3186     HIP045.2482 -0.382457 -2.861159\n",
       "\n",
       "[3187 rows x 3 columns]"
      ]
     },
     "execution_count": 3,
     "metadata": {},
     "output_type": "execute_result"
    }
   ],
   "source": [
    "#----------------------------------读入细胞UMAP 坐标-----------------------------\n",
    "umap = pd.read_csv('./cell_embeddings.csv')\n",
    "umap\n",
    "umap = umap.iloc[:,1:]\n",
    "umap\n",
    "#----------------------------------读入细胞UMAP 坐标-----------------------------"
   ]
  },
  {
   "cell_type": "code",
   "execution_count": 10,
   "metadata": {},
   "outputs": [
    {
     "data": {
      "text/plain": [
       "array([[ 0.08832481, -1.83340495],\n",
       "       [-0.20225141,  4.21362366],\n",
       "       [-2.63872478,  2.08874525],\n",
       "       ...,\n",
       "       [-5.57646344,  2.64931454],\n",
       "       [-4.38953087,  2.00527276],\n",
       "       [-0.38245687, -2.86115866]])"
      ]
     },
     "execution_count": 10,
     "metadata": {},
     "output_type": "execute_result"
    }
   ],
   "source": [
    "#---------------------------------------赋值到object中-------------------------------------\n",
    "adata.obsm['X_umap'] = umap.values\n",
    "adata.obsm['X_umap']\n",
    "#---------------------------------------赋值到object中-------------------------------------"
   ]
  },
  {
   "cell_type": "code",
   "execution_count": 13,
   "metadata": {},
   "outputs": [
    {
     "name": "stderr",
     "output_type": "stream",
     "text": [
      "... storing 'Donor.orig' as categorical\n",
      "... storing 'Donor.full' as categorical\n",
      "... storing 'Donor' as categorical\n",
      "... storing 'singler' as categorical\n",
      "... storing 'cell.type.fine' as categorical\n"
     ]
    }
   ],
   "source": [
    "#------------------------------------------------写出数据--------------------------------------------\n",
    "adata.write('./Covid19.h5ad', compression='gzip')\n",
    "#------------------------------------------------写出数据--------------------------------------------"
   ]
  },
  {
   "cell_type": "code",
   "execution_count": 3,
   "metadata": {},
   "outputs": [],
   "source": [
    "#-----------------------------------读入已经保存的数据-----------------------------------------\n",
    "adata = scv.read('./Covid19.h5ad')\n",
    "#-----------------------------------读入已经保存的数据-----------------------------------------"
   ]
  },
  {
   "cell_type": "code",
   "execution_count": 4,
   "metadata": {},
   "outputs": [
    {
     "data": {
      "text/plain": [
       "AnnData object with n_obs × n_vars = 3187 × 24084\n",
       "    obs: 'Donor.orig', 'Donor.full', 'Donor', 'seurat_clusters', 'singler', 'cell.type.fine'\n",
       "    obsm: 'X_umap'\n",
       "    layers: 'spliced', 'unspliced'"
      ]
     },
     "execution_count": 4,
     "metadata": {},
     "output_type": "execute_result"
    }
   ],
   "source": [
    "#---------------------看一些数据结构-------------------------------------------------\n",
    "adata\n",
    "#---------------------看一些数据结构-------------------------------------------------"
   ]
  },
  {
   "cell_type": "code",
   "execution_count": 5,
   "metadata": {},
   "outputs": [
    {
     "name": "stdout",
     "output_type": "stream",
     "text": [
      "Filtered out 17389 genes that are detected 10 counts (shared).\n",
      "Normalized count data: X, spliced, unspliced.\n",
      "Exctracted 3000 highly variable genes.\n",
      "Logarithmized X.\n",
      "computing neighbors\n",
      "    finished (0:00:03) --> added \n",
      "    'distances' and 'connectivities', weighted adjacency matrices (adata.obsp)\n",
      "computing moments based on connectivities\n",
      "    finished (0:00:00) --> added \n",
      "    'Ms' and 'Mu', moments of un/spliced abundances (adata.layers)\n",
      "recovering dynamics\n",
      "    finished (0:01:22) --> added \n",
      "    'fit_pars', fitted parameters for splicing dynamics (adata.var)\n",
      "computing velocities\n",
      "    finished (0:00:00) --> added \n",
      "    'velocity', velocity vectors for each individual cell (adata.layers)\n"
     ]
    }
   ],
   "source": [
    "#--------------------------------------Preprocess------------------------------------------\n",
    "min_shared_counts = 10\n",
    "n_top_genes = 3000\n",
    "scv.pp.filter_and_normalize(adata, min_shared_counts=min_shared_counts, n_top_genes=n_top_genes)\n",
    "\n",
    "n_pcs=30\n",
    "n_neighbors=20\n",
    "scv.pp.moments(adata, n_pcs=n_pcs, n_neighbors=n_neighbors)\n",
    "\n",
    "scv.tl.recover_dynamics(adata)\n",
    "\n",
    "min_likelihood=0.001\n",
    "\n",
    "scv.tl.velocity(adata, min_likelihood=min_likelihood)\n",
    "#--------------------------------------Preprocess------------------------------------------"
   ]
  },
  {
   "cell_type": "code",
   "execution_count": 7,
   "metadata": {},
   "outputs": [
    {
     "name": "stdout",
     "output_type": "stream",
     "text": [
      "computing velocity graph\n",
      "    finished (0:00:01) --> added \n",
      "    'velocity_graph', sparse matrix with cosine correlations (adata.uns)\n",
      "computing velocity embedding\n",
      "    finished (0:00:00) --> added\n",
      "    'velocity_umap', embedded velocity vectors (adata.obsm)\n"
     ]
    },
    {
     "data": {
      "image/png": "[encoded data removed]",
      "text/plain": [
       "<Figure size 432x288 with 1 Axes>"
      ]
     },
     "metadata": {},
     "output_type": "display_data"
    },
    {
     "name": "stdout",
     "output_type": "stream",
     "text": [
      "computing terminal states\n",
      "    identified 0 region of root cells and 2 regions of end points .\n",
      "    finished (0:00:00) --> added\n",
      "    'root_cells', root cells of Markov diffusion process (adata.obs)\n",
      "    'end_points', end points of Markov diffusion process (adata.obs)\n",
      "WARNING: No root cells detected. Consider specifying root cells to improve latent time prediction.\n",
      "computing latent time using root_cells as prior\n",
      "    finished (0:00:00) --> added \n",
      "    'latent_time', shared time (adata.obs)\n"
     ]
    },
    {
     "data": {
      "image/png": "[encoded data removed]",
      "text/plain": [
       "<Figure size 432x288 with 2 Axes>"
      ]
     },
     "metadata": {
      "needs_background": "light"
     },
     "output_type": "display_data"
    }
   ],
   "source": [
    "scv.tl.velocity_graph(adata)\n",
    "scv.pl.velocity_embedding_stream(adata, basis='umap',color='cell.type.fine')\n",
    "\n",
    "#####latent time\n",
    "#scv.tl.terminal_states(adata)\n",
    "min_likelihood_time=0.1\n",
    "\n",
    "scv.tl.latent_time(adata, min_likelihood=min_likelihood_time)\n",
    "\n",
    "size = 80\n",
    "scv.pl.scatter(adata, color='latent_time',color_map='gnuplot', size=size)"
   ]
  },
  {
   "cell_type": "code",
   "execution_count": null,
   "metadata": {},
   "outputs": [],
   "source": []
  }
 ],
 "metadata": {
  "kernelspec": {
   "display_name": "scvelo",
   "language": "python",
   "name": "scvelo"
  },
  "language_info": {
   "codemirror_mode": {
    "name": "ipython",
    "version": 3
   },
   "file_extension": ".py",
   "mimetype": "text/x-python",
   "name": "python",
   "nbconvert_exporter": "python",
   "pygments_lexer": "ipython3",
   "version": "3.8.0"
  }
 },
 "nbformat": 4,
 "nbformat_minor": 4
}
